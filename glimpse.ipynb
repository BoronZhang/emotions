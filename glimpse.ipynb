{
 "cells": [
  {
   "cell_type": "code",
   "execution_count": 3,
   "metadata": {},
   "outputs": [],
   "source": [
    "import pickle\n",
    "import pandas as pd\n",
    "import numpy as np\n",
    "import os\n",
    "from collections import defaultdict\n",
    "import matplotlib.pyplot as plt\n"
   ]
  },
  {
   "cell_type": "code",
   "execution_count": 11,
   "metadata": {},
   "outputs": [
    {
     "name": "stdout",
     "output_type": "stream",
     "text": [
      "wrist_ACC: (2930, 3, 32)\n",
      "wrist_BVP: (2930, 1, 64)\n",
      "wrist_EDA: (2930, 1, 4)\n",
      "wrist_TEMP: (2930, 1, 4)\n",
      "chest_ACC: (2930, 3, 700)\n",
      "chest_ECG: (2930, 1, 700)\n",
      "chest_EMG: (2930, 1, 700)\n",
      "chest_EDA: (2930, 1, 700)\n",
      "chest_Temp: (2930, 1, 700)\n",
      "chest_Resp: (2930, 1, 700)\n"
     ]
    }
   ],
   "source": [
    "with open(\"WESAD/S3/S3_n0.pkl\", 'rb') as file:\n",
    "    data = pickle.load(file, encoding='bytes')\n",
    "for device in ['wrist', 'chest']:\n",
    "    for sensor in data[device]:\n",
    "        print(f'{device}_{sensor}: {data[device][sensor].shape}')\n"
   ]
  },
  {
   "cell_type": "code",
   "execution_count": 1,
   "metadata": {},
   "outputs": [
    {
     "name": "stdout",
     "output_type": "stream",
     "text": [
      "Data of S2 loaded!\n",
      "Data of S3 loaded!\n",
      "Data of S4 loaded!\n",
      "Data of S5 loaded!\n",
      "Data of S6 loaded!\n",
      "Data of S7 loaded!\n",
      "Data of S8 loaded!\n",
      "Data of S9 loaded!\n",
      "Data of S10 loaded!\n",
      "Data of S11 loaded!\n",
      "Data of S13 loaded!\n",
      "Data of S14 loaded!\n",
      "Data of S15 loaded!\n",
      "Data of S16 loaded!\n",
      "Data of S17 loaded!\n"
     ]
    }
   ],
   "source": [
    "# Creating dataframe of all of them\n",
    "# `window` | `mean` | `std` | `max` | `min` | `label`\n",
    "\n",
    "from feature import extract_features\n",
    "\n",
    "extract_features(verbose=1)\n"
   ]
  },
  {
   "cell_type": "code",
   "execution_count": 5,
   "metadata": {},
   "outputs": [
    {
     "name": "stdout",
     "output_type": "stream",
     "text": [
      "Testing S2\n",
      "test #S2 skipped\n",
      "\n",
      "input of size (42069, 6)\n",
      "Training RandomForestClassifier() completed in 48.474334955215454 secs (score=0.7925797662887943)\n",
      "Training MLPClassifier() completed in 43.78752422332764 secs (score=0.5353593643641084)\n",
      "predicting df of size (2889, 5), made (2889,)\n",
      "Report of S2: {'2': {'precision': 0.8801955990220048, 'recall': 0.5853658536585366, 'f1-score': 0.703125, 'support': 615}, '3': {'precision': 0.8971774193548387, 'recall': 0.9784520668425681, 'f1-score': 0.9360538493899875, 'support': 2274}, 'accuracy': 0.894773277950848, 'macro avg': {'precision': 0.8886865091884217, 'recall': 0.7819089602505523, 'f1-score': 0.8195894246949937, 'support': 2889}, 'weighted avg': {'precision': 0.8935623901043394, 'recall': 0.894773277950848, 'f1-score': 0.886468787993365, 'support': 2889}}\n",
      "Testing S3\n",
      "test #S3 skipped\n",
      "\n",
      "input of size (42023, 6)\n",
      "Training RandomForestClassifier() completed in 54.44404602050781 secs (score=0.7964324970362877)\n",
      "Training MLPClassifier() completed in 45.557555198669434 secs (score=0.5922068807119566)\n",
      "predicting df of size (2935, 5), made (2935,)\n",
      "Report of S3: {'2': {'precision': 1.0, 'recall': 0.5625, 'f1-score': 0.72, 'support': 640}, '3': {'precision': 0.8912621359223301, 'recall': 1.0, 'f1-score': 0.9425051334702258, 'support': 2295}, 'accuracy': 0.9045996592844975, 'macro avg': {'precision': 0.945631067961165, 'recall': 0.78125, 'f1-score': 0.8312525667351129, 'support': 2935}, 'weighted avg': {'precision': 0.9149732885661832, 'recall': 0.9045996592844975, 'f1-score': 0.8939861265124934, 'support': 2935}}\n",
      "Testing S4\n",
      "test #S4 skipped\n",
      "\n",
      "input of size (41988, 6)\n",
      "Training RandomForestClassifier() completed in 55.636016845703125 secs (score=0.8072915938366891)\n",
      "Training MLPClassifier() completed in 46.71273136138916 secs (score=0.5686435901747865)\n",
      "predicting df of size (2970, 5), made (2970,)\n",
      "Report of S4: {'2': {'precision': 0.5578800557880056, 'recall': 0.6299212598425197, 'f1-score': 0.591715976331361, 'support': 635}, '3': {'precision': 0.8956946293830448, 'recall': 0.8642398286937901, 'f1-score': 0.8796861377506537, 'support': 2335}, 'accuracy': 0.8141414141414142, 'macro avg': {'precision': 0.7267873425855251, 'recall': 0.747080544268155, 'f1-score': 0.7357010570410074, 'support': 2970}, 'weighted avg': {'precision': 0.823468281156496, 'recall': 0.8141414141414142, 'f1-score': 0.8181167598041046, 'support': 2970}}\n",
      "Testing S5\n",
      "test #S5 skipped\n",
      "\n",
      "input of size (41947, 6)\n",
      "Training RandomForestClassifier() completed in 52.36353158950806 secs (score=0.8088790032094405)\n",
      "Training MLPClassifier() completed in 60.37564444541931 secs (score=0.549971132463254)\n",
      "predicting df of size (3011, 5), made (3011,)\n",
      "Report of S5: {'2': {'precision': 0.5472392638036809, 'recall': 0.6914728682170542, 'f1-score': 0.610958904109589, 'support': 645}, '3': {'precision': 0.9093806921675774, 'recall': 0.8440405748098055, 'f1-score': 0.8754932047347654, 'support': 2366}, 'accuracy': 0.811358352706742, 'macro avg': {'precision': 0.7283099779856292, 'recall': 0.7677567215134299, 'f1-score': 0.7432260544221772, 'support': 3011}, 'weighted avg': {'precision': 0.8318047302629897, 'recall': 0.811358352706742, 'f1-score': 0.8188261094497309, 'support': 3011}}\n",
      "Testing S6\n",
      "test #S6 skipped\n",
      "\n",
      "input of size (41969, 6)\n",
      "Training RandomForestClassifier() completed in 52.84859561920166 secs (score=0.8033373567356599)\n",
      "Training MLPClassifier() completed in 53.31463956832886 secs (score=0.5114351382166007)\n",
      "predicting df of size (2989, 5), made (2989,)\n",
      "Report of S6: {'2': {'precision': 1.0, 'recall': 0.42153846153846153, 'f1-score': 0.593073593073593, 'support': 650}, '3': {'precision': 0.8615101289134438, 'recall': 1.0, 'f1-score': 0.925603482390186, 'support': 2339}, 'accuracy': 0.8742054198728672, 'macro avg': {'precision': 0.930755064456722, 'recall': 0.7107692307692308, 'f1-score': 0.7593385377318895, 'support': 2989}, 'weighted avg': {'precision': 0.8916266950580611, 'recall': 0.8742054198728672, 'f1-score': 0.8532901909697157, 'support': 2989}}\n",
      "Testing S7\n",
      "test #S7 skipped\n",
      "\n",
      "input of size (41970, 6)\n",
      "Training RandomForestClassifier() completed in 51.078453540802 secs (score=0.8052658281806488)\n",
      "Training MLPClassifier() completed in 82.62607336044312 secs (score=0.5272238517196958)\n",
      "predicting df of size (2988, 5), made (2988,)\n",
      "Report of S7: {'2': {'precision': 0.7583732057416268, 'recall': 0.990625, 'f1-score': 0.859078590785908, 'support': 640}, '3': {'precision': 0.9972118959107806, 'recall': 0.91396933560477, 'f1-score': 0.9537777777777777, 'support': 2348}, 'accuracy': 0.9303882195448461, 'macro avg': {'precision': 0.8777925508262037, 'recall': 0.952297167802385, 'f1-score': 0.9064281842818429, 'support': 2988}, 'weighted avg': {'precision': 0.9460550144823141, 'recall': 0.9303882195448461, 'f1-score': 0.9334941500419021, 'support': 2988}}\n",
      "Testing S8\n",
      "test #S8 skipped\n",
      "\n",
      "input of size (41953, 6)\n",
      "Training RandomForestClassifier() completed in 53.94558095932007 secs (score=0.80607507250872)\n",
      "Training MLPClassifier() completed in 80.68179965019226 secs (score=0.5896625130776989)\n",
      "predicting df of size (3005, 5), made (3005,)\n",
      "Report of S8: {'2': {'precision': 0.7137809187279152, 'recall': 0.9044776119402985, 'f1-score': 0.7978933508887425, 'support': 670}, '3': {'precision': 0.9703153988868275, 'recall': 0.89593147751606, 'f1-score': 0.931641059897573, 'support': 2335}, 'accuracy': 0.8978369384359401, 'macro avg': {'precision': 0.8420481588073714, 'recall': 0.9002045447281792, 'f1-score': 0.8647672053931577, 'support': 3005}, 'weighted avg': {'precision': 0.9131180272706972, 'recall': 0.8978369384359401, 'f1-score': 0.9018204392533412, 'support': 3005}}\n",
      "Testing S9\n",
      "test #S9 skipped\n",
      "\n",
      "input of size (41968, 6)\n",
      "Training RandomForestClassifier() completed in 53.17934989929199 secs (score=0.8263158232876083)\n",
      "Training MLPClassifier() completed in 64.01237964630127 secs (score=0.5690492431252364)\n",
      "predicting df of size (2990, 5), made (2990,)\n",
      "Report of S9: {'2': {'precision': 0.3893905191873589, 'recall': 0.5348837209302325, 'f1-score': 0.4506858262573481, 'support': 645}, '3': {'precision': 0.8574144486692015, 'recall': 0.7692963752665245, 'f1-score': 0.8109687570240502, 'support': 2345}, 'accuracy': 0.7187290969899666, 'macro avg': {'precision': 0.6234024839282801, 'recall': 0.6520900480983784, 'f1-score': 0.6308272916406992, 'support': 2990}, 'weighted avg': {'precision': 0.7564527648846567, 'recall': 0.7187290969899666, 'f1-score': 0.733248860587755, 'support': 2990}}\n",
      "Testing S10\n",
      "test #S10 skipped\n",
      "\n",
      "input of size (41885, 6)\n",
      "Training RandomForestClassifier() completed in 49.19394063949585 secs (score=0.8072895017023012)\n",
      "Training MLPClassifier() completed in 40.63723683357239 secs (score=0.5477828315678714)\n",
      "predicting df of size (3073, 5), made (3073,)\n",
      "Report of S10: {'2': {'precision': 0.7775061124694377, 'recall': 0.8772413793103448, 'f1-score': 0.8243681140635126, 'support': 725}, '3': {'precision': 0.9605321507760533, 'recall': 0.9224872231686542, 'f1-score': 0.9411253530306322, 'support': 2348}, 'accuracy': 0.9118125610152945, 'macro avg': {'precision': 0.8690191316227455, 'recall': 0.8998643012394996, 'f1-score': 0.8827467335470724, 'support': 3073}, 'weighted avg': {'precision': 0.9173515852790484, 'recall': 0.9118125610152945, 'f1-score': 0.9135793073908138, 'support': 3073}}\n",
      "Testing S11\n",
      "test #S11 skipped\n",
      "\n",
      "input of size (41939, 6)\n",
      "Training RandomForestClassifier() completed in 49.50080728530884 secs (score=0.831830313007526)\n",
      "Training MLPClassifier() completed in 50.72052454948425 secs (score=0.5574618594138011)\n",
      "predicting df of size (3019, 5), made (3019,)\n",
      "Report of S11: {'2': {'precision': 0.46600741656365885, 'recall': 0.5544117647058824, 'f1-score': 0.5063801208865011, 'support': 680}, '3': {'precision': 0.86289592760181, 'recall': 0.8153056861906798, 'f1-score': 0.8384260276983952, 'support': 2339}, 'accuracy': 0.7565419012918185, 'macro avg': {'precision': 0.6644516720827345, 'recall': 0.6848587254482811, 'f1-score': 0.6724030742924482, 'support': 3019}, 'weighted avg': {'precision': 0.773500701531607, 'recall': 0.7565419012918185, 'f1-score': 0.7636359592545104, 'support': 3019}}\n",
      "Testing S13\n",
      "test #S13 skipped\n",
      "\n",
      "input of size (41937, 6)\n",
      "Training RandomForestClassifier() completed in 48.39837408065796 secs (score=0.8077587163537758)\n",
      "Training MLPClassifier() completed in 55.35606837272644 secs (score=0.5596979768565802)\n",
      "predicting df of size (3021, 5), made (3021,)\n",
      "Report of S13: {'2': {'precision': 0.7024691358024692, 'recall': 0.8569277108433735, 'f1-score': 0.7720488466757124, 'support': 664}, '3': {'precision': 0.9570330167345092, 'recall': 0.8977513788714467, 'f1-score': 0.9264448336252189, 'support': 2357}, 'accuracy': 0.8887785501489573, 'macro avg': {'precision': 0.8297510762684892, 'recall': 0.8773395448574102, 'f1-score': 0.8492468401504656, 'support': 3021}, 'weighted avg': {'precision': 0.9010812070890692, 'recall': 0.8887785501489573, 'f1-score': 0.8925094031934175, 'support': 3021}}\n",
      "Testing S14\n",
      "test #S14 skipped\n",
      "\n",
      "input of size (41937, 6)\n",
      "Training RandomForestClassifier() completed in 48.75162196159363 secs (score=0.8235426110791085)\n",
      "Training MLPClassifier() completed in 48.69660568237305 secs (score=0.5481913886781717)\n",
      "predicting df of size (3021, 5), made (3021,)\n",
      "Report of S14: {'2': {'precision': 0.6002460024600246, 'recall': 0.7229629629629629, 'f1-score': 0.6559139784946236, 'support': 675}, '3': {'precision': 0.9153079710144928, 'recall': 0.861466325660699, 'f1-score': 0.8875713658322354, 'support': 2346}, 'accuracy': 0.8305196954650778, 'macro avg': {'precision': 0.7577769867372587, 'recall': 0.792214644311831, 'f1-score': 0.7717426721634295, 'support': 3021}, 'weighted avg': {'precision': 0.8449118012778936, 'recall': 0.8305196954650778, 'f1-score': 0.8358107777975158, 'support': 3021}}\n",
      "Testing S15\n",
      "test #S15 skipped\n",
      "\n",
      "input of size (41931, 6)\n",
      "Training RandomForestClassifier() completed in 49.67634892463684 secs (score=0.8048664830675982)\n",
      "Training MLPClassifier() completed in 87.33770942687988 secs (score=0.5506953647174019)\n",
      "predicting df of size (3027, 5), made (3027,)\n",
      "Report of S15: {'2': {'precision': 0.7645687645687645, 'recall': 0.956268221574344, 'f1-score': 0.8497409326424871, 'support': 686}, '3': {'precision': 0.9861687413554634, 'recall': 0.9137120888509184, 'f1-score': 0.9485587583148558, 'support': 2341}, 'accuracy': 0.9233564585398084, 'macro avg': {'precision': 0.8753687529621139, 'recall': 0.9349901552126312, 'f1-score': 0.8991498454786715, 'support': 3027}, 'weighted avg': {'precision': 0.9359481982184711, 'recall': 0.9233564585398084, 'f1-score': 0.9261639686183759, 'support': 3027}}\n",
      "Testing S16\n",
      "test #S16 skipped\n",
      "\n",
      "input of size (41945, 6)\n",
      "Training RandomForestClassifier() completed in 69.6068787574768 secs (score=0.8203293927129579)\n",
      "Training MLPClassifier() completed in 68.34525203704834 secs (score=0.5121606596260928)\n",
      "predicting df of size (3013, 5), made (3013,)\n",
      "Report of S16: {'2': {'precision': 0.6277712952158693, 'recall': 0.799405646359584, 'f1-score': 0.7032679738562091, 'support': 673}, '3': {'precision': 0.9373840445269017, 'recall': 0.8636752136752137, 'f1-score': 0.8990213523131673, 'support': 2340}, 'accuracy': 0.8493196150016594, 'macro avg': {'precision': 0.7825776698713856, 'recall': 0.8315404300173989, 'f1-score': 0.8011446630846881, 'support': 3013}, 'weighted avg': {'precision': 0.868227263814547, 'recall': 0.8493196150016594, 'f1-score': 0.8552968173972919, 'support': 3013}}\n",
      "Testing S17\n",
      "test #S17 skipped\n",
      "\n",
      "input of size (41951, 6)\n",
      "Training RandomForestClassifier() completed in 54.125136613845825 secs (score=0.802983847248403)\n",
      "Training MLPClassifier() completed in 61.27843379974365 secs (score=0.6403416358951994)\n",
      "predicting df of size (3007, 5), made (3007,)\n",
      "Report of S17: {'2': {'precision': 0.6605616605616605, 'recall': 0.7482710926694329, 'f1-score': 0.701686121919585, 'support': 723}, '3': {'precision': 0.916819012797075, 'recall': 0.8782837127845884, 'f1-score': 0.8971377459749552, 'support': 2284}, 'accuracy': 0.8470236115729963, 'macro avg': {'precision': 0.7886903366793678, 'recall': 0.8132774027270107, 'f1-score': 0.7994119339472701, 'support': 3007}, 'weighted avg': {'precision': 0.855204757504024, 'recall': 0.8470236115729963, 'f1-score': 0.8501435576836242, 'support': 3007}}\n"
     ]
    }
   ],
   "source": [
    "from sklearn.ensemble import RandomForestClassifier, AdaBoostClassifier\n",
    "from sklearn.svm import SVC\n",
    "from sklearn.neighbors import KNeighborsClassifier\n",
    "from sklearn.neural_network import MLPClassifier\n",
    "from classics import WESADTrainer\n",
    "import pandas as pd\n",
    "\n",
    "subjects = {i for i in range(2, 18)}.difference({12})\n",
    "trainer = WESADTrainer({\n",
    "    RandomForestClassifier: \n",
    "        {'n_estimators': [100], 'min_samples_leaf': [1]},\n",
    "    MLPClassifier:\n",
    "        {},\n",
    "    \n",
    "    }, sensor='chest_Resp', subjects=subjects, data_prefix=\"svd\", classes=[2])\n",
    "\n",
    "reports = trainer.predict_all(verbose=3)\n"
   ]
  },
  {
   "cell_type": "code",
   "execution_count": 6,
   "metadata": {},
   "outputs": [
    {
     "name": "stdout",
     "output_type": "stream",
     "text": [
      "1: {'precision': 0, 'recall': 0, 'f1-score': 0}\n",
      "2: {'precision': 0.6963993299941651, 'recall': 0.7224182369702018, 'f1-score': 0.6893291553323447}\n",
      "3: {'precision': 0.9210738409342901, 'recall': 0.8945740858623811, 'f1-score': 0.9062676559483119}\n",
      "4: {'precision': 0, 'recall': 0, 'f1-score': 0}\n",
      "weighted avg: {'precision': 0.8711524471000265, 'recall': 0.8568923181308491, 'f1-score': 0.8584260810631972}\n",
      "macro avg: {'precision': 0.8087365854642274, 'recall': 0.8084961614162914, 'f1-score': 0.7977984056403286}\n",
      "accuracy: 0.8568923181308491\n"
     ]
    }
   ],
   "source": [
    "for item in reports:\n",
    "    print(f\"{item}: {reports[item]}\")"
   ]
  },
  {
   "cell_type": "code",
   "execution_count": 1,
   "metadata": {},
   "outputs": [
    {
     "name": "stdout",
     "output_type": "stream",
     "text": [
      "\u001b[93mTesting 2\u001b[0m\n",
      "Dataset with len of 501\n",
      "Dataset with len of 48\n",
      "Dataset with len of 199\n"
     ]
    },
    {
     "name": "stderr",
     "output_type": "stream",
     "text": [
      "GPU available: False, used: False\n",
      "TPU available: False, using: 0 TPU cores\n",
      "IPU available: False, using: 0 IPUs\n",
      "HPU available: False, using: 0 HPUs\n",
      "\n",
      "  | Name  | Type           | Params\n",
      "-----------------------------------------\n",
      "0 | model | BIOTClassifier | 3.2 M \n",
      "-----------------------------------------\n",
      "3.2 M     Trainable params\n",
      "16        Non-trainable params\n",
      "3.2 M     Total params\n",
      "12.746    Total estimated model params size (MB)\n"
     ]
    },
    {
     "name": "stdout",
     "output_type": "stream",
     "text": [
      "Sanity Checking DataLoader 0: 100%|██████████| 2/2 [01:36<00:00,  0.02it/s]{'f1': 0.0, 'pr_auc': 0.09969386841916988, 'roc_auc': 0.10548885077186965, 'recall': 0.0, 'precision': 0.0, 'accuracy': 0.65625, 'balanced_accuracy': 0.39622641509433965}\n",
      "                                                                           \r"
     ]
    },
    {
     "name": "stderr",
     "output_type": "stream",
     "text": [
      "c:\\Users\\Elham moin\\AppData\\Local\\Programs\\Python\\Python39\\lib\\site-packages\\pytorch_lightning\\loops\\fit_loop.py:298: The number of training batches (7) is smaller than the logging interval Trainer(log_every_n_steps=50). Set a lower value for log_every_n_steps if you want to see logs for the training epoch.\n"
     ]
    },
    {
     "name": "stdout",
     "output_type": "stream",
     "text": [
      "Epoch 0:   0%|          | 0/7 [00:00<?, ?it/s] "
     ]
    }
   ],
   "source": [
    "# from biot.BIOT.run_binary_supervised import supervised\n",
    "from biotOnWesad import Main\n",
    "\n",
    "runner = Main(tests=[2, 12], epochs=10)\n",
    "runner.go()\n",
    "\n",
    "\n"
   ]
  },
  {
   "cell_type": "code",
   "execution_count": 8,
   "metadata": {},
   "outputs": [],
   "source": [
    "import pickle\n",
    "import torch\n",
    "\n",
    "with open(\"WESAD_Biot_Xy.pickle\", \"rb\") as file:\n",
    "    X, Y = pickle.load(file)\n",
    "\n"
   ]
  },
  {
   "cell_type": "code",
   "execution_count": 22,
   "metadata": {},
   "outputs": [
    {
     "name": "stdout",
     "output_type": "stream",
     "text": [
      "torch.Size([1, 9616800])\n",
      "torch.Size([1, 200])\n",
      "tensor(45) tensor(155)\n"
     ]
    }
   ],
   "source": [
    "print(Y.shape)\n",
    "Y2 = Y[:, :9600000].reshape((1, -1, 200 * 240)).mode(2).values\n",
    "print(Y2.shape)\n",
    "print((Y2 == 2).sum(), (Y2 != 2).sum())\n",
    "\n"
   ]
  },
  {
   "cell_type": "code",
   "execution_count": 46,
   "metadata": {},
   "outputs": [
    {
     "name": "stdout",
     "output_type": "stream",
     "text": [
      "{'test_acc': 0.8047619142702646, 'test_bacc': 0.7708333304950169, 'test_pr_auc': 0.9007936503205979, 'test_auroc': 0.952380950961794, 'time': 882.740820475987}\n"
     ]
    },
    {
     "data": {
      "image/png": "[encoded data removed]",
      "text/plain": [
       "<Figure size 432x288 with 1 Axes>"
      ]
     },
     "metadata": {
      "needs_background": "light"
     },
     "output_type": "display_data"
    },
    {
     "name": "stdout",
     "output_type": "stream",
     "text": [
      "\u001b[93mWould you like to continue: \u001b[0m\n"
     ]
    }
   ],
   "source": [
    "import json\n",
    "with open(\"biot_result_2024_Jun_15_14.json\") as file:\n",
    "    results = json.load(file)\n",
    "\n",
    "total = dict.fromkeys(results['2'], 0)\n",
    "for subj in results.keys():\n",
    "    result = results[subj]\n",
    "    for key in result.keys():\n",
    "        total[key] += result[key] / len(results)\n",
    "\n",
    "print(total)\n",
    "\n",
    "accs = [results[subj]['test_acc'] for subj in results.keys()]\n",
    "baccs = [results[subj]['test_bacc'] for subj in results.keys()]\n",
    "\n",
    "import matplotlib.pyplot as plt\n",
    "plt.plot(accs)\n",
    "plt.plot(baccs)\n",
    "plt.show()\n",
    "\n",
    "print(\"\\033[93mWould you like to continue: \\033[0m\")"
   ]
  },
  {
   "cell_type": "code",
   "execution_count": 7,
   "metadata": {},
   "outputs": [
    {
     "data": {
      "image/png": "[encoded data removed]",
      "text/plain": [
       "<Figure size 432x288 with 1 Axes>"
      ]
     },
     "metadata": {
      "needs_background": "light"
     },
     "output_type": "display_data"
    },
    {
     "data": {
      "image/png": "[encoded data removed]",
      "text/plain": [
       "<Figure size 432x288 with 1 Axes>"
      ]
     },
     "metadata": {
      "needs_background": "light"
     },
     "output_type": "display_data"
    }
   ],
   "source": [
    "import pickle\n",
    "from matplotlib import pyplot as plt\n",
    "import torch\n",
    "\n",
    "for i in [2]:\n",
    "    if i == 12:continue\n",
    "    with open(f\"WESAD/S{i}/S{i}_n0.pkl\", \"rb\") as file:\n",
    "        erer = pickle.load(file)\n",
    "    labels:torch.Tensor = erer['label'].mode(1).values\n",
    "    plt.plot(labels)\n",
    "    plt.show()\n",
    "    with open(f\"WESAD/S{i}/S{i}_n1.pkl\", \"rb\") as file:\n",
    "        erer = pickle.load(file)\n",
    "    labels:torch.Tensor = erer['label']\n",
    "    plt.plot(labels)\n",
    "    plt.show()\n",
    "    "
   ]
  },
  {
   "cell_type": "code",
   "execution_count": 5,
   "metadata": {},
   "outputs": [
    {
     "name": "stdout",
     "output_type": "stream",
     "text": [
      "torch.Size([11735, 1, 16])\n",
      "(11735, 200)\n"
     ]
    }
   ],
   "source": [
    "from scipy.signal import resample\n",
    "import pickle\n",
    "import torch\n",
    "\n",
    "sensors = [\n",
    "            'wrist_BVP',\n",
    "            'wrist_EDA',\n",
    "            'wrist_TEMP',\n",
    "            \n",
    "        ]\n",
    "with open(\"WESAD/S3/S3_n1.pkl\", 'rb') as pklfile:\n",
    "    # each sample sensor has the shape of (seconds, channels, frequency)\n",
    "    sample:dict[str, torch.Tensor] = pickle.load(pklfile, encoding='bytes')\n",
    "\n",
    "data = sample[\"wrist_BVP\"]\n",
    "print(data.shape)\n",
    "print(resample(data.mean(1), 200, axis=1).shape)\n"
   ]
  },
  {
   "cell_type": "code",
   "execution_count": 14,
   "metadata": {},
   "outputs": [
    {
     "name": "stdout",
     "output_type": "stream",
     "text": [
      "tensor([0, 0, 0, 0, 0, 0, 0, 0, 0, 0, 0, 0, 0, 0, 0, 0, 0, 0, 0, 0, 0, 0, 0, 0,\n",
      "        0, 0, 0, 0, 0, 0, 0, 0, 0, 0, 0, 0, 0, 0, 0, 0, 0, 0, 0, 0, 0, 0, 0, 0,\n",
      "        0, 0, 0, 0, 0, 0, 0, 0, 0, 0, 0, 0, 0, 0, 0, 0])\n",
      "tensor([0.4711, 0.4956, 0.5150, 0.4892, 0.4961, 0.4959, 0.4945, 0.4980, 0.4985,\n",
      "        0.4990, 0.5002, 0.4911, 0.5053, 0.5119, 0.4956, 0.5037, 0.4896, 0.4950,\n",
      "        0.5000, 0.5021, 0.5146, 0.4920, 0.5128, 0.4886, 0.4935, 0.4779, 0.5052,\n",
      "        0.5016, 0.4899, 0.4914, 0.4881, 0.5051, 0.5071, 0.4676, 0.4995, 0.5058,\n",
      "        0.5041, 0.4999, 0.4984, 0.4897, 0.4967, 0.4922, 0.4880, 0.5125, 0.5018,\n",
      "        0.5084, 0.5017, 0.5014, 0.4943, 0.4890, 0.4994, 0.5123, 0.4768, 0.4985,\n",
      "        0.4676, 0.4849, 0.5074, 0.4896, 0.4907, 0.4922, 0.5010, 0.4895, 0.5094,\n",
      "        0.4979])\n",
      "tensor([-0.1158, -0.0177,  0.0601, -0.0430, -0.0157, -0.0163, -0.0221, -0.0078,\n",
      "        -0.0060, -0.0039,  0.0010, -0.0356,  0.0214,  0.0477, -0.0176,  0.0147,\n",
      "        -0.0415, -0.0201, -0.0001,  0.0084,  0.0583, -0.0319,  0.0510, -0.0458,\n",
      "        -0.0260, -0.0884,  0.0208,  0.0064, -0.0403, -0.0345, -0.0474,  0.0204,\n",
      "         0.0286, -0.1297, -0.0021,  0.0233,  0.0163, -0.0005, -0.0065, -0.0411,\n",
      "        -0.0133, -0.0313, -0.0481,  0.0501,  0.0072,  0.0337,  0.0067,  0.0057,\n",
      "        -0.0228, -0.0441, -0.0022,  0.0492, -0.0928, -0.0061, -0.1299, -0.0604,\n",
      "         0.0298, -0.0418, -0.0371, -0.0310,  0.0039, -0.0421,  0.0376, -0.0084])\n",
      "tensor([0.4711, 0.4956, 0.5150, 0.4892, 0.4961, 0.4959, 0.4945, 0.4980, 0.4985,\n",
      "        0.4990, 0.5002, 0.4911, 0.5053, 0.5119, 0.4956, 0.5037, 0.4896, 0.4950,\n",
      "        0.5000, 0.5021, 0.5146, 0.4920, 0.5128, 0.4886, 0.4935, 0.4779, 0.5052,\n",
      "        0.5016, 0.4899, 0.4914, 0.4881, 0.5051, 0.5071, 0.4676, 0.4995, 0.5058,\n",
      "        0.5041, 0.4999, 0.4984, 0.4897, 0.4967, 0.4922, 0.4880, 0.5125, 0.5018,\n",
      "        0.5084, 0.5017, 0.5014, 0.4943, 0.4890, 0.4994, 0.5123, 0.4768, 0.4985,\n",
      "        0.4676, 0.4849, 0.5074, 0.4896, 0.4907, 0.4922, 0.5010, 0.4895, 0.5094,\n",
      "        0.4979])\n"
     ]
    }
   ],
   "source": [
    "import torch\n",
    "\n",
    "Prob = torch.tensor([[-1.1579e-01, -2.4608e-01],\n",
    "        [-1.7740e-02, -2.1603e-01],\n",
    "        [ 6.0064e-02, -2.4171e-01],\n",
    "        [-4.3009e-02, -2.1177e-01],\n",
    "        [-1.5691e-02, -2.8765e-01],\n",
    "        [-1.6293e-02, -2.8194e-01],\n",
    "        [-2.2091e-02, -2.4700e-01],\n",
    "        [-7.8332e-03, -2.4362e-01],\n",
    "        [-5.9724e-03, -3.1931e-01],\n",
    "        [-3.9127e-03, -2.8460e-01],\n",
    "        [ 9.8352e-04, -2.3022e-01],\n",
    "        [-3.5608e-02, -2.6899e-01],\n",
    "        [ 2.1374e-02, -2.6662e-01],\n",
    "        [ 4.7729e-02, -2.3563e-01],\n",
    "        [-1.7649e-02, -2.5085e-01],\n",
    "        [ 1.4721e-02, -2.2312e-01],\n",
    "        [-4.1512e-02, -2.3940e-01],\n",
    "        [-2.0110e-02, -2.8530e-01],\n",
    "        [-1.3559e-04, -2.9503e-01],\n",
    "        [ 8.3584e-03, -2.7451e-01],\n",
    "        [ 5.8303e-02, -2.3909e-01],\n",
    "        [-3.1896e-02, -2.0096e-01],\n",
    "        [ 5.1013e-02, -2.8354e-01],\n",
    "        [-4.5789e-02, -1.9253e-01],\n",
    "        [-2.6030e-02, -3.0668e-01],\n",
    "        [-8.8358e-02, -3.0680e-01],\n",
    "        [ 2.0764e-02, -2.7693e-01],\n",
    "        [ 6.3989e-03, -2.8341e-01],\n",
    "        [-4.0310e-02, -2.6087e-01],\n",
    "        [-3.4521e-02, -2.4268e-01],\n",
    "        [-4.7449e-02, -2.2303e-01],\n",
    "        [ 2.0399e-02, -2.5578e-01],\n",
    "        [ 2.8562e-02, -2.9705e-01],\n",
    "        [-1.2970e-01, -2.6643e-01],\n",
    "        [-2.0568e-03, -2.3791e-01],\n",
    "        [ 2.3261e-02, -2.9043e-01],\n",
    "        [ 1.6287e-02, -2.7585e-01],\n",
    "        [-5.3007e-04, -2.9578e-01],\n",
    "        [-6.4716e-03, -2.2825e-01],\n",
    "        [-4.1074e-02, -2.5004e-01],\n",
    "        [-1.3272e-02, -2.6061e-01],\n",
    "        [-3.1304e-02, -2.6170e-01],\n",
    "        [-4.8073e-02, -2.5949e-01],\n",
    "        [ 5.0130e-02, -2.7166e-01],\n",
    "        [ 7.1569e-03, -2.7607e-01],\n",
    "        [ 3.3717e-02, -2.6357e-01],\n",
    "        [ 6.6715e-03, -2.7082e-01],\n",
    "        [ 5.7171e-03, -2.9882e-01],\n",
    "        [-2.2801e-02, -2.2109e-01],\n",
    "        [-4.4101e-02, -2.4576e-01],\n",
    "        [-2.2423e-03, -2.7455e-01],\n",
    "        [ 4.9212e-02, -3.0713e-01],\n",
    "        [-9.2759e-02, -2.5809e-01],\n",
    "        [-6.0996e-03, -2.7460e-01],\n",
    "        [-1.2987e-01, -2.9379e-01],\n",
    "        [-6.0422e-02, -2.3983e-01],\n",
    "        [ 2.9761e-02, -2.6942e-01],\n",
    "        [-4.1788e-02, -2.2440e-01],\n",
    "        [-3.7055e-02, -2.2875e-01],\n",
    "        [-3.1048e-02, -2.4618e-01],\n",
    "        [ 3.8909e-03, -2.7190e-01],\n",
    "        [-4.2149e-02, -2.1290e-01],\n",
    "        [ 3.7608e-02, -2.4449e-01],\n",
    "        [-8.4263e-03, -2.8144e-01]])\n",
    "\n",
    "print(torch.argmax(Prob, dim=1))\n",
    "print(torch.sigmoid(Prob[:, 0]))\n",
    "print(Prob[:, 0])\n",
    "print(torch.sigmoid(Prob)[: ,0])\n",
    "Prob.to(torch.device(\"cuda:0\"))"
   ]
  },
  {
   "cell_type": "code",
   "execution_count": 2,
   "metadata": {},
   "outputs": [
    {
     "name": "stdout",
     "output_type": "stream",
     "text": [
      "cpu\n"
     ]
    }
   ],
   "source": [
    "import torch\n",
    "\n",
    "a = torch.tensor([1, 2, 23, 4, 5, 6])\n",
    "print(a.device)\n"
   ]
  }
 ],
 "metadata": {
  "kernelspec": {
   "display_name": "Python 3",
   "language": "python",
   "name": "python3"
  },
  "language_info": {
   "codemirror_mode": {
    "name": "ipython",
    "version": 3
   },
   "file_extension": ".py",
   "mimetype": "text/x-python",
   "name": "python",
   "nbconvert_exporter": "python",
   "pygments_lexer": "ipython3",
   "version": "3.9.7"
  }
 },
 "nbformat": 4,
 "nbformat_minor": 2
}
